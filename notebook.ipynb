{
 "cells": [
  {
   "cell_type": "markdown",
   "metadata": {},
   "source": [
    "# Proyek Akhir: Menyelesaikan Permasalahan Institusi Pendidikan"
   ]
  },
  {
   "cell_type": "markdown",
   "metadata": {},
   "source": [
    "- **Nama:** Naufal Fadli Muzakki\n",
    "- **Email:** 222112245@stis.ac.id\n",
    "- **ID Dicoding:** nf_muzakki"
   ]
  },
  {
   "cell_type": "markdown",
   "metadata": {},
   "source": [
    "## Persiapan"
   ]
  },
  {
   "cell_type": "markdown",
   "metadata": {},
   "source": [
    "### Menyiapkan library yang dibutuhkan\n",
    "Pada awalnya, semua packages/library dimuat untuk membantu melakukan analisis"
   ]
  },
  {
   "cell_type": "code",
   "execution_count": null,
   "metadata": {
    "trusted": true
   },
   "outputs": [],
   "source": [
    "# Library dasar python\n",
    "import pandas as pd\n",
    "import numpy as np\n",
    "import pickle\n",
    "import os\n",
    "import math\n",
    "import warnings\n",
    "warnings.filterwarnings(\"ignore\")\n",
    "\n",
    "# Library untuk visualisasi\n",
    "import matplotlib.pyplot as plt\n",
    "import seaborn as sns\n",
    "import shap\n",
    "\n",
    "# Library untuk preprocessing\n",
    "from sklearn.preprocessing import LabelEncoder, MinMaxScaler\n",
    "from sklearn.model_selection import train_test_split\n",
    "\n",
    "# Library untuk Modelling dan Hyperparameter Tuning \n",
    "from sklearn.neighbors import KNeighborsClassifier\n",
    "from sklearn.ensemble import RandomForestClassifier\n",
    "import optuna\n",
    "from optuna.samplers import TPESampler\n",
    "\n",
    "# === Library untuk Evaluasi Model ===\n",
    "from sklearn.metrics import accuracy_score, balanced_accuracy_score, f1_score, classification_report, confusion_matrix"
   ]
  },
  {
   "cell_type": "markdown",
   "metadata": {},
   "source": [
    "### Menyiapkan data yang akan diguankan"
   ]
  },
  {
   "cell_type": "code",
   "execution_count": null,
   "metadata": {
    "trusted": true
   },
   "outputs": [],
   "source": [
    "# Import Dataset dari Dicoding GitHub Repository\n",
    "dataset_url = 'https://raw.githubusercontent.com/dicodingacademy/dicoding_dataset/refs/heads/main/students_performance/data.csv'\n",
    "\n",
    "# Read dataset\n",
    "df = pd.read_csv(dataset_url, delimiter=';')\n",
    "df"
   ]
  },
  {
   "cell_type": "markdown",
   "metadata": {},
   "source": [
    "**Penjelasan:**\n",
    "\n",
    "Dalam proyek ini digunakan dataset **\"Students' Performance\"** yang tersedia pada [GitHub](https://github.com/dicodingacademy/dicoding_dataset/tree/main/students_performance). Kumpulan data yang dibuat dari lembaga pendidikan tinggi (diperoleh dari beberapa basis data terpisah) yang terkait dengan mahasiswa yang terdaftar dalam berbagai gelar sarjana, seperti agronomi, desain, pendidikan, keperawatan, jurnalisme, manajemen, layanan sosial, dan teknologi. Kumpulan data tersebut mencakup informasi yang diketahui pada saat pendaftaran mahasiswa (jalur akademik, demografi, dan faktor sosial-ekonomi) dan kinerja akademik mahasiswa pada akhir semester pertama dan kedua. Data tersebut digunakan untuk membangun model klasifikasi guna memprediksi dropout dan keberhasilan akademik mahasiswa. Berikut merupakan penjelasan variabel-bariabel dalam dataset tersebut:\n",
    "\n",
    "* **Marital status**: Status pernikahan mahasiswa. (Kategorik)\n",
    "* **Application mode**: Metode pendaftaran mahasiswa. (Kategorik)\n",
    "* **Application order**: Urutan pilihan program studi saat mendaftar (0 berarti pilihan utama; 9 pilihan terakhir). (Numerik)\n",
    "* **Course**: Program studi yang diambil oleh mahasiswa. (Kategorik)\n",
    "* **Daytime/evening attendance**: Jadwal kehadiran kelas mahasiswa. (Kategorik) 1 – Siang, 0 – Malam\n",
    "* **Previous qualification**: Kualifikasi pendidikan terakhir sebelum masuk perguruan tinggi. (Kategorik)\n",
    "* **Previous qualification (grade)**: Nilai dari kualifikasi pendidikan sebelumnya (skala 0–200). (Numerik)\n",
    "* **Nacionality**: Kebangsaan mahasiswa. (Kategorik)\n",
    "* **Mother's qualification**: Kualifikasi pendidikan ibu mahasiswa. (Kategorik)\n",
    "* **Father's qualification**: Kualifikasi pendidikan ayah mahasiswa. (Kategorik)\n",
    "* **Mother's occupation**: Pekerjaan ibu mahasiswa. (Kategorik)\n",
    "* **Father's occupation**: Pekerjaan ayah mahasiswa. (Kategorik)\n",
    "* **Admission grade**: Nilai masuk mahasiswa saat pendaftaran (skala 0–200). (Numerik)\n",
    "* **Displaced**: Apakah mahasiswa tinggal jauh dari tempat asalnya (terpaksa pindah/dipindahkan). (Kategorik) 1 – Ya, 0 – Tidak\n",
    "* **Educational special needs**: Apakah mahasiswa memiliki kebutuhan pendidikan khusus. (Kategorik) 1 – Ya, 0 – Tidak\n",
    "* **Debtor**: Apakah mahasiswa memiliki utang (misalnya tunggakan biaya). (Kategorik) 1 – Ya, 0 – Tidak\n",
    "* **Tuition fees up to date**: Apakah pembayaran biaya kuliah mahasiswa lancar. (Kategorik) 1 – Ya, 0 – Tidak\n",
    "* **Gender**: Jenis kelamin mahasiswa. (Kategorik) 1 – Laki-laki, 0 – Perempuan\n",
    "* **Scholarship holder**: Apakah mahasiswa penerima beasiswa. (Kategorik) 1 – Ya, 0 – Tidak\n",
    "* **Age at enrollment**: Usia mahasiswa saat mendaftar/mulai kuliah. (Numerik)\n",
    "* **International**: Apakah mahasiswa adalah mahasiswa internasional. (Kategorik) 1 – Ya, 0 – Tidak\n",
    "* **Curricular units 1st sem (credited)**: Jumlah mata kuliah semester 1 yang diakui dari sebelumnya (diakreditasi). (Numerik)\n",
    "* **Curricular units 1st sem (enrolled)**: Jumlah mata kuliah semester 1 yang diambil/didaftarkan. (Numerik)\n",
    "* **Curricular units 1st sem (evaluations)**: Jumlah mata kuliah semester 1 yang telah dinilai/dievaluasi. (Numerik)\n",
    "* **Curricular units 1st sem (approved)**: Jumlah mata kuliah semester 1 yang lulus/berhasil disetujui. (Numerik)"
   ]
  },
  {
   "cell_type": "markdown",
   "metadata": {},
   "source": [
    "## Data Understanding"
   ]
  },
  {
   "cell_type": "markdown",
   "metadata": {},
   "source": [
    "### Data Summary"
   ]
  },
  {
   "cell_type": "code",
   "execution_count": null,
   "metadata": {
    "trusted": true
   },
   "outputs": [],
   "source": [
    "# Info dataset\n",
    "df.info()"
   ]
  },
  {
   "cell_type": "code",
   "execution_count": null,
   "metadata": {
    "trusted": true
   },
   "outputs": [],
   "source": [
    "df.describe(include='all')"
   ]
  },
  {
   "cell_type": "markdown",
   "metadata": {},
   "source": [
    "**Penjelasan:**\n",
    "\n",
    "Berdasarkan ringkasan dataset dan statistik deskriptif, banyak variabel yang disajikan dalam bentuk encode (numerik) yang sebenearnya merupakan kategorik, oleh karena itu perlu dilakukan decoding pada tahap Data Preprocessing untuk keperluan pembuatan dashboard."
   ]
  },
  {
   "cell_type": "markdown",
   "metadata": {},
   "source": [
    "### Check Data Duplikat"
   ]
  },
  {
   "cell_type": "code",
   "execution_count": null,
   "metadata": {
    "trusted": true
   },
   "outputs": [],
   "source": [
    "# Cek jumlah data duplikat\n",
    "duplicate_count = df.duplicated().sum()\n",
    "print(f\"Jumlah data duplikat: {duplicate_count}\")\n",
    "\n",
    "# Tampilkan baris yang duplikat (jika ada)\n",
    "if duplicate_count > 0:\n",
    "    print(\"Baris duplikat:\")\n",
    "    print(df[df.duplicated()])"
   ]
  },
  {
   "cell_type": "markdown",
   "metadata": {},
   "source": [
    "**Penjelasan:**\n",
    "\n",
    "Dilakukan pengecekan apakah terdapat data duplikat. Setelah dilakukan pengecekan didapatkan tidak ada baris duplikat di dalam dataset. Karena itu, tidak ada baris yang perlu dihapus dengan drop_duplicates()."
   ]
  },
  {
   "cell_type": "markdown",
   "metadata": {},
   "source": [
    "### Checking Missing Value"
   ]
  },
  {
   "cell_type": "code",
   "execution_count": null,
   "metadata": {
    "trusted": true
   },
   "outputs": [],
   "source": [
    "# Cek keberadaaan missing value pada setiap variabel\n",
    "df.isnull().sum()"
   ]
  },
  {
   "cell_type": "markdown",
   "metadata": {},
   "source": [
    "**Penjelasan:**\n",
    "\n",
    "Tidak ditemukan adanya missing value pada keseluruhan variabel, sehingga tidak perlu penanganan missing value."
   ]
  },
  {
   "cell_type": "markdown",
   "metadata": {},
   "source": [
    "### Exploratory Data Analysis"
   ]
  },
  {
   "cell_type": "code",
   "execution_count": null,
   "metadata": {
    "trusted": true
   },
   "outputs": [],
   "source": [
    "numerical, categorical = [], []\n",
    "\n",
    "for feature in df.columns:\n",
    "    if df[feature].dtype != 'object':\n",
    "        numerical.append(feature)\n",
    "    else:\n",
    "        categorical.append(feature)"
   ]
  },
  {
   "cell_type": "code",
   "execution_count": null,
   "metadata": {
    "trusted": true
   },
   "outputs": [],
   "source": [
    "# Daftar kolom numerik\n",
    "num_cols = df[numerical].columns\n",
    "n_cols = len(num_cols)\n",
    "\n",
    "# Hitung jumlah baris dan kolom optimal untuk subplot grid\n",
    "n_per_row = 6\n",
    "n_rows = int(np.ceil(n_cols / n_per_row))\n",
    "\n",
    "# Buat grid subplot\n",
    "fig, ax = plt.subplots(n_rows, n_per_row, figsize=(4 * n_per_row, 4 * n_rows))\n",
    "ax = ax.flatten()\n",
    "\n",
    "# Plot distribusi masing-masing kolom\n",
    "for i, col in enumerate(num_cols):\n",
    "    sns.histplot(data=df, x=col, kde=True, ax=ax[i])\n",
    "    ax[i].set_title(col)\n",
    "\n",
    "# Hapus subplot yang tidak terpakai\n",
    "for j in range(i + 1, len(ax)):\n",
    "    fig.delaxes(ax[j])\n",
    "\n",
    "plt.tight_layout()\n",
    "plt.show()\n"
   ]
  },
  {
   "cell_type": "code",
   "execution_count": null,
   "metadata": {
    "trusted": true
   },
   "outputs": [],
   "source": [
    "# Tentukan nama kolom target\n",
    "col = 'Status'\n",
    "\n",
    "# Buat subplots\n",
    "fig, ax = plt.subplots(1, 2, figsize=(20, 5))\n",
    "\n",
    "# Hitung frekuensi nilai unik dari kolom target\n",
    "tdf = df[col].value_counts().reset_index()\n",
    "tdf.columns = [col, 'count']  # Rename kolom agar sesuai\n",
    "\n",
    "# Pie chart\n",
    "ax[0].pie(tdf['count'], labels=tdf[col], autopct='%.2f%%')\n",
    "ax[0].set_title('Distribusi Status (Pie Chart)')\n",
    "ax[0].set_aspect('equal')\n",
    "\n",
    "# Countplot\n",
    "sns.countplot(data=df, x=col, ax=ax[1])\n",
    "ax[1].set_title('Distribusi Status (Count Plot)')\n",
    "\n",
    "plt.tight_layout()\n",
    "plt.show()"
   ]
  },
  {
   "cell_type": "markdown",
   "metadata": {},
   "source": [
    "**Penjelasan:**\n",
    "\n",
    "Berdasarkan visualisasi dalam bentuk diagram pie dan bar, terlihat bahwa mayoritas data berada pada kategori \"Graduate\", dengan proporsi sebesar 49,93% dari total observasi. Selanjutnya disusul dengan kategori \"Dropout\" yang menunjukkan proporsi yang cukup besar yaitu 32,12%. Sementara itu, kategori Enrolled merupakan kelas minoritas dengan proporsi sebesar 16,92%.\n",
    "\n",
    "Distribusi ini menunjukkan adanya ketidakseimbangan kelas (class imbalance) pada variabel target. Dalam situasi seperti ini, penggunaan metrik evaluasi yang tepat menjadi sangat penting, karena metrik seperti akurasi saja dapat memberikan gambaran yang menyesatkan. Oleh karena itu, pendekatan yang digunakan dalam analisis ini adalah dengan memilih metrik yang lebih representatif terhadap performa model pada kedua kelas, seperti F1-score dan Balanced Accuracy. Metrik-metrik ini mampu memberikan penilaian yang lebih adil terhadap kemampuan model dalam mengklasifikasikan kelas minoritas, yang merupakan fokus utama dalam kasus ini."
   ]
  },
  {
   "cell_type": "markdown",
   "metadata": {},
   "source": [
    "## Data Preparation / Preprocessing"
   ]
  },
  {
   "cell_type": "markdown",
   "metadata": {},
   "source": [
    "### Persiapan Dataset untuk Dashboard"
   ]
  },
  {
   "cell_type": "markdown",
   "metadata": {},
   "source": [
    "\n",
    "Untuk keperluan pembuatan dashboard, perlu dilakukan label decoding untuk fitur-fitur dibawah ini:\n",
    "\n",
    "| Features | 0 | 1 | 2 | 3 | 4 | 5 | 6 |\n",
    "|----------|---|---|---|---|---|---|---|\n",
    "| **Marital_status** | - | Single | Married | Widower | Divorced | Facto Union | Legally Seperated |\n",
    "| **Daytime_evening_attendance** | Evening | Daytime | - | - | - | - | - |\n",
    "| **Displaced** | No | Yes | - | - | - | - | - |\n",
    "| **Educational_special_needs** | No | Yes | - | - | - | - | - |\n",
    "| **Debtor** | No | Yes | - | - | - | - | - |\n",
    "| **Tuition_fees_up_to_date** | No | Yes | - | - | - | - | - |\n",
    "| **Gender** | Female | Male | - | - | - | - | - |\n",
    "| **Scholarship_holder** | No | Yes | - | - | - | - | - |\n",
    "| **International** | No | Yes | - | - | - | - | - |\n",
    "\n",
    "<br>\n",
    "\n",
    "<details>\n",
    "<summary><b>Application_mode</b></summary>\n",
    "1 - 1st Phase - General Contingent<br>\n",
    "2 - Ordinance No. 612/93<br>\n",
    "5 - 1st Phase - Special Contingent (Azores Island)<br>\n",
    "7 - Holders of Other Higher Courses<br>\n",
    "10 - Ordinance No. 854-B/99<br>\n",
    "15 - International Student (Bachelor)<br>\n",
    "16 - 1st phase - Special Contingent (Madeira Island)<br>\n",
    "17 - 2nd phase - General Contingent<br>\n",
    "18 - 3rd phase - General Contingent<br>\n",
    "26 - Ordinance No. 533-A/99, Item B2 (Different Plan)<br>\n",
    "27 - Ordinance No. 533-A/99, Item B3 (Other Institution)<br>\n",
    "39 - Over 23 Years Old<br>\n",
    "42 - Transfer<br>\n",
    "43 - Change of Course<br>\n",
    "44 - Technological Specialization Diploma Holders<br>\n",
    "51 - Change of Institution/Course<br>\n",
    "53 - Short Cycle Diploma Holders<br>\n",
    "57 - Change of Institution/Course (International)<br>\n",
    "</details>\n",
    "\n",
    "<br>\n",
    "\n",
    "<details>\n",
    "<summary><b>Course</b></summary>\n",
    "33 - Biofuel Production Technologies<br>\n",
    "171 - Animation and Multimedia Design<br>\n",
    "8014 - Social Service (Evening Attendance)<br>\n",
    "9003 - Agronomy<br>\n",
    "9070 - Communication Design<br>\n",
    "9085 - Veterinary Nursing<br>\n",
    "9119 - Informatics Engineering<br>\n",
    "9130 - Equinculture<br>\n",
    "9147 - Management<br>\n",
    "9238 - Social Service<br>\n",
    "9254 - Tourism<br>\n",
    "9500 - Nursing<br>\n",
    "9556 - Oral Hygiene<br>\n",
    "9670 - Advertising and Marketing Management<br>\n",
    "9773 - Journalism and Communication<br>\n",
    "9853 - Basic Education<br>\n",
    "9991 - Management (Evening Attendance)<br>\n",
    "</details>\n",
    "\n",
    "<br>\n",
    "\n",
    "<details>\n",
    "<summary><b>Previous_qualification</b></summary>\n",
    "1 - Secondary Education<br>\n",
    "2 - Higher Education - Bachelor's Degree<br>\n",
    "3 - Higher Education - Degree<br>\n",
    "4 - Higher Education - Master's<br>\n",
    "5 - Higher Education - Doctorate<br>\n",
    "6 - Frequency of Higher Education<br>\n",
    "9 - 12th Year of Schooling - Not Completed<br>\n",
    "10 - 11th Year of Schooling - Not Completed<br>\n",
    "12 - Other - 11th Year of Schooling<br>\n",
    "14 - 10th Year of Schooling<br>\n",
    "15 - 10th Year of Schooling - Not Completed<br>\n",
    "19 - Basic Education 3rd Cycle (9th/10th/11th Year) or Equiv.<br>\n",
    "38 - Basic Education 2nd Cycle (6th/7th/8th Year) or Equiv.<br>\n",
    "39 - Technological Specialization Course<br>\n",
    "40 - Higher Education - Degree (1st Cycle)<br>\n",
    "42 - Professional Higher Technical Course<br>\n",
    "43 - Higher Education - Master (2nd Cycle)<br>\n",
    "</details>\n",
    "\n",
    "<br>\n",
    "\n",
    "<details>\n",
    "<summary><b>Nacionality</b></summary>\n",
    "1 - Portuguese<br>\n",
    "2 - German<br>\n",
    "6 - Spanish<br>\n",
    "11 - Italian<br>\n",
    "13 - Dutch<br>\n",
    "14 - English<br>\n",
    "17 - Lithuanian<br>\n",
    "21 - Angolan<br>\n",
    "22 - Cape Verdean<br>\n",
    "24 - Guinean<br>\n",
    "25 - Mozambican<br>\n",
    "26 - Santomean<br>\n",
    "32 - Turkish<br>\n",
    "41 - Brazilian<br>\n",
    "62 - Romanian<br>\n",
    "100 - Moldova (Republic of)<br>\n",
    "101 - Mexican<br>\n",
    "103 - Ukrainian<br>\n",
    "105 - Russian<br>\n",
    "108 - Cuban<br>\n",
    "109 - Colombian<br>\n",
    "</details>\n",
    "\n",
    "<br>\n",
    "\n",
    "<details>\n",
    "<summary><b>Mothers_qualification & Fathers_qualification</b></summary>\n",
    "1 - Secondary Education - 12th Year of Schooling or Eq.<br>\n",
    "2 - Higher Education - Bachelor's Degree<br>\n",
    "3 - Higher Education - Degree<br>\n",
    "4 - Higher Education - Master's<br>\n",
    "5 - Higher Education - Doctorate<br>\n",
    "6 - Frequency of Higher Education<br>\n",
    "9 - 12th Year of Schooling - Not Completed<br>\n",
    "10 - 11th Year of Schooling - Not Completed<br>\n",
    "11 - 7th Year (Old)<br>\n",
    "12 - Other - 11th Year of Schooling<br>\n",
    "13 - 2nd Year Complementary High School Course<br>\n",
    "14 - 10th Year of Schooling<br>\n",
    "18 - General Commerce Course<br>\n",
    "19 - Basic Education 3rd Cycle (9th/10th/11th Year) or Equiv.<br>\n",
    "20 - Complementary High School Course<br>\n",
    "22 - Technical - Professional Course<br>\n",
    "25 - Complementary High School Course - Not Concluded<br>\n",
    "26 - 7th Year of Schooling<br>\n",
    "27 - 2nd Cycle of the General High School Course<br>\n",
    "29 - 9th Year of Schooling - Not Completed<br>\n",
    "30 - 8th Year of Schooling<br>\n",
    "31 - General Course of Administration and Commerce<br>\n",
    "33 - Supplementary Accounting and Administration<br>\n",
    "34 - Unknown<br>\n",
    "35 - Can't Read or Write<br>\n",
    "36 - Can Read Without Having a 4th Year of Schooling<br>\n",
    "37 - Basic Education 1st Cycle (4th/5th Year) or Equiv.<br>\n",
    "38 - Basic Education 2nd Cycle (6th/7th/8th Year) or Equiv.<br>\n",
    "39 - Technological Specialization Course<br>\n",
    "40 - Higher Education - Degree (1st Cycle)<br>\n",
    "41 - Specialized Higher Studies Course<br>\n",
    "42 - Professional Higher Technical Course<br>\n",
    "43 - Higher Education - Master (2nd Cycle)<br>\n",
    "44 - Higher Education - Doctorate (3rd Cycle)<br>\n",
    "</details>\n",
    "\n",
    "<br>\n",
    "\n",
    "<details>\n",
    "<summary><b>Mothers_occupation & Fathers_occupation</b></summary>\n",
    "0 - Student<br>\n",
    "1 - Representatives of the Legislative Power and Executive Bodies, Directors, Directors and Executive Managers<br>\n",
    "2 - Specialists in Intellectual and Scientific Activities<br>\n",
    "3 - Intermediate Level Technicians and Professions<br>\n",
    "4 - Administrative Staff<br>\n",
    "5 - Personal Services, Security and Safety Workers and Sellers<br>\n",
    "6 - Farmers and Skilled Workers in Agriculture, Fisheries and Forestry<br>\n",
    "7 - Skilled Workers in Industry, Construction and Craftsmen<br>\n",
    "8 - Installation and Machine Operators and Assembly Workers<br>\n",
    "9 - Unskilled Workers<br>\n",
    "10 - Armed Forces Professions<br>\n",
    "90 - Other Situation<br>\n",
    "99 - (Blank)<br>\n",
    "101 - Armed Forces Officers<br>\n",
    "102 - Armed Forces Sergeants<br>\n",
    "103 - Other Armed Forces Personnel<br>\n",
    "112 - Directors of Administrative and Commercial Services<br>\n",
    "114 - Hotel, Catering, Trade and Other Services Directors<br>\n",
    "121 - Specialists in the Physical Sciences, Mathematics, Engineering and Related Techniques<br>\n",
    "122 - Health Professionals<br>\n",
    "123 - Teachers<br>\n",
    "124 - Specialists in Finance, Accounting, Administrative Organization, Public and Commercial Relations<br>\n",
    "125 - Specialists in Information and Communication Technologies (ICT)<br>\n",
    "131 - Intermediate Level Science and Engineering Technicians and Professions<br>\n",
    "132 - Technicians and Professionals, of Intermediate Level of Health<br>\n",
    "134 - Intermediate Level Technicians From Legal, Social, Sports, Cultural and Similar Services<br>\n",
    "135 - Information and Communication Technology Technicians<br>\n",
    "141 - Office Workers, Secretaries in General and Data Processing Operators<br>\n",
    "143 - Data, Accounting, Statistical, Financial Services and Registry-Related Operators<br>\n",
    "144 - Other Administrative Support Staff<br>\n",
    "151 - Personal Service Workers<br>\n",
    "152 - Sellers<br>\n",
    "153 - Personal Care Workers and the Like<br>\n",
    "154 - Protection and Security Services Personnel<br>\n",
    "161 - Market-Oriented Farmers and Skilled Agricultural and Animal Production Workers<br>\n",
    "163 - Farmers, Livestock Keepers, Fishermen, Hunters and Gatherers, Subsistence<br>\n",
    "171 - Skilled Construction Workers and the Like, Except Electricians<br>\n",
    "172 - Skilled Workers in Metallurgy, Metalworking and Similar<br>\n",
    "173 - Skilled Workers in Printing, Precision Instrument Manufacturing, Jewelers, Artisans and the Like<br>\n",
    "174 - Skilled Workers in Electricity and Electronics<br>\n",
    "175 - Workers in Food Processing, Woodworking, Clothing and Other Industries and Crafts<br>\n",
    "181 - Fixed Plant and Machine Operators<br>\n",
    "182 - Assembly Workers<br>\n",
    "183 - Vehicle Drivers and Mobile Equipment Operators<br>\n",
    "191 - Cleaning Workers<br>\n",
    "192 - Unskilled Workers in Agriculture, Animal Production, Fisheries and Forestry<br>\n",
    "193 - Unskilled Workers in Extractive Industry, Construction, Manufacturing and Transport<br>\n",
    "194 - Meal Preparation Assistants<br>\n",
    "195 - Street Vendors (Except Food) and Street Service Providers<br>\n",
    "</details>"
   ]
  },
  {
   "cell_type": "code",
   "execution_count": null,
   "metadata": {
    "trusted": true
   },
   "outputs": [],
   "source": [
    "# @title Label Decoding Function\n",
    "def label_decoding(df, feature):\n",
    "    \"\"\"\n",
    "    Transform encoded feature in a DataFrame to their respective categorical labels\n",
    "\n",
    "    Parameters\n",
    "        df (pandas.DataFrame) : The DataFrame containing the feature to be transformed\n",
    "        feature (str or list of str) : The name of the feature to be transformed\n",
    "\n",
    "    Returns\n",
    "        pandas.DataFrame : The DataFrame with the specified feature as categorical labels\n",
    "    \"\"\"\n",
    "\n",
    "    category_mappings = {\n",
    "        'Marital_status': {1: 'Single', 2: 'Married', 3: 'Widower', 4: 'Divorced',\n",
    "                           5: 'Facto Union', 6: 'Legally Seperated'},\n",
    "        'Daytime_evening_attendance': {0: 'Evening', 1: 'Daytime'},\n",
    "        'Gender': {0: 'Female', 1: 'Male'},\n",
    "        'Application_mode' : {\n",
    "            1: '1st Phase - General Contingent',\n",
    "            2: 'Ordinance No. 612/93',\n",
    "            5: '1st Phase - Special Contingent (Azores Island)',\n",
    "            7: 'Holders of Other Higher Courses',\n",
    "            10: 'Ordinance No. 854-B/99',\n",
    "            15: 'International Student (Bachelor)',\n",
    "            16: '1st Phase - Special Contingent (Madeira Island)',\n",
    "            17: '2nd Phase - General Contingent',\n",
    "            18: '3rd Phase - General Contingent',\n",
    "            26: 'Ordinance No. 533-A/99, Item B2 (Different Plan)',\n",
    "            27: 'Ordinance No. 533-A/99, Item B3 (Other Institution)',\n",
    "            39: 'Over 23 Years Old',\n",
    "            42: 'Transfer',\n",
    "            43: 'Change of Course',\n",
    "            44: 'Technological Specialization Diploma Holders',\n",
    "            51: 'Change of Institution/Course',\n",
    "            53: 'Short Cycle Diploma Holders',\n",
    "            57: 'Change of Institution/Course (International)'\n",
    "        },\n",
    "        'Course': {\n",
    "            33: 'Biofuel Production Technologies',\n",
    "            171: 'Animation and Multimedia Design',\n",
    "            8014: 'Social Service (Evening Attendance)',\n",
    "            9003: 'Agronomy',\n",
    "            9070: 'Communication Design',\n",
    "            9085: 'Veterinary Nursing',\n",
    "            9119: 'Informatics Engineering',\n",
    "            9130: 'Equinculture',\n",
    "            9147: 'Management',\n",
    "            9238: 'Social Service',\n",
    "            9254: 'Tourism',\n",
    "            9500: 'Nursing',\n",
    "            9556: 'Oral Hygiene',\n",
    "            9670: 'Advertising and Marketing Management',\n",
    "            9773: 'Journalism and Communication',\n",
    "            9853: 'Basic Education',\n",
    "            9991: 'Management (Evening Attendance)'\n",
    "        },\n",
    "        'Nacionality': {\n",
    "            1: 'Portuguese', 2: 'German', 6: 'Spanish', 11: 'Italian',\n",
    "            13: 'Dutch', 14: 'English', 17: 'Lithuanian', 21: 'Angolan',\n",
    "            22: 'Cape Verdean', 24: 'Guinean', 25: 'Mozambican',\n",
    "            26: 'Santomean', 32: 'Turkish', 41: 'Brazilian', 62: 'Romanian',\n",
    "            100: 'Moldova (Republic of)', 101: 'Mexican', 103: 'Ukrainian',\n",
    "            105: 'Russian', 108: 'Cuban', 109: 'Colombian'\n",
    "        },\n",
    "        'Qualification': {\n",
    "            1: 'Secondary Education - 12th Year of Schooling or Eq.',\n",
    "            2: \"Higher Education - Bachelor's Degree\",\n",
    "            3: 'Higher Education - Degree',\n",
    "            4: \"Higher Education - Master's\",\n",
    "            5: 'Higher Education - Doctorate',\n",
    "            6: 'Frequency of Higher Education',\n",
    "            9: '12th Year of Schooling - Not Completed',\n",
    "            10: '11th Year of Schooling - Not Completed',\n",
    "            11: '7th Year (Old)',\n",
    "            12: 'Other - 11th Year of Schooling',\n",
    "            13: '2nd Year Complementary High School Course',\n",
    "            14: '10th Year of Schooling',\n",
    "            15: '10th Year of Schooling - Not Completed',\n",
    "            18: 'General Commerce Course',\n",
    "            19: 'Basic Education 3rd Cycle (9th/10th/11th Year) or Equiv.',\n",
    "            20: 'Complementary High School Course',\n",
    "            22: 'Technical - Professional Course',\n",
    "            25: 'Complementary High School Course - Not Concluded',\n",
    "            26: '7th Year of Schooling',\n",
    "            27: '2nd Cycle of the General High School Course',\n",
    "            29: '9th Year of Schooling - Not Completed',\n",
    "            30: '8th Year of Schooling',\n",
    "            31: 'General Course of Administration and Commerce',\n",
    "            33: 'Supplementary Accounting and Administration',\n",
    "            34: 'Unknown',\n",
    "            35: \"Can't Read or Write\",\n",
    "            36: 'Can Read Without Having a 4th Year of Schooling',\n",
    "            37: 'Basic Education 1st Cycle (4th/5th Year) or Equiv.',\n",
    "            38: 'Basic Education 2nd Cycle (6th/7th/8th Year) or Equiv.',\n",
    "            39: 'Technological Specialization Course',\n",
    "            40: 'Higher Education - Degree (1st Cycle)',\n",
    "            41: 'Specialized Higher Studies Course',\n",
    "            42: 'Professional Higher Technical Course',\n",
    "            43: 'Higher Education - Master (2nd Cycle)',\n",
    "            44: 'Higher Education - Doctorate (3rd Cycle)'\n",
    "        },\n",
    "        'Occupation': {\n",
    "            0: 'Student',\n",
    "            1: 'Representatives of the Legislative Power and Executive Bodies, Directors, Directors and Executive Managers',\n",
    "            2: 'Specialists in Intellectual and Scientific Activities',\n",
    "            3: 'Intermediate Level Technicians and Professions',\n",
    "            4: 'Administrative Staff',\n",
    "            5: 'Personal Services, Security and Safety Workers and Sellers',\n",
    "            6: 'Farmers and Skilled Workers in Agriculture, Fisheries and Forestry',\n",
    "            7: 'Skilled Workers in Industry, Construction and Craftsmen',\n",
    "            8: 'Installation and Machine Operators and Assembly Workers',\n",
    "            9: 'Unskilled Workers',\n",
    "            10: 'Armed Forces Professions',\n",
    "            90: 'Other Situation',\n",
    "            99: '(Blank)',\n",
    "            101: 'Armed Forces Officers',\n",
    "            102: 'Armed Forces Sergeants',\n",
    "            103: 'Other Armed Forces Personnel',\n",
    "            112: 'Directors of Administrative and Commercial Services',\n",
    "            114: 'Hotel, Catering, Trade and Other Services Directors',\n",
    "            121: 'Specialists in the Physical Sciences, Mathematics, Engineering and Related Techniques',\n",
    "            122: 'Health Professionals',\n",
    "            123: 'Teachers',\n",
    "            124: 'Specialists in Finance, Accounting, Administrative Organization, Public and Commercial Relations',\n",
    "            125: 'Specialists in Information and Communication Technologies (ICT)',\n",
    "            131: 'Intermediate Level Science and Engineering Technicians and Professions',\n",
    "            132: 'Technicians and Professionals, of Intermediate Level of Health',\n",
    "            134: 'Intermediate Level Technicians From Legal, Social, Sports, Cultural and Similar Services',\n",
    "            135: 'Information and Communication Technology Technicians',\n",
    "            141: 'Office Workers, Secretaries in General and Data Processing Operators',\n",
    "            143: 'Data, Accounting, Statistical, Financial Services and Registry-Related Operators',\n",
    "            144: 'Other Administrative Support Staff',\n",
    "            151: 'Personal Service Workers',\n",
    "            152: 'Sellers',\n",
    "            153: 'Personal Care Workers and the Like',\n",
    "            154: 'Protection and Security Services Personnel',\n",
    "            161: 'Market-Oriented Farmers and Skilled Agricultural and Animal Production Workers',\n",
    "            163: 'Farmers, Livestock Keepers, Fishermen, Hunters and Gatherers, Subsistence',\n",
    "            171: 'Skilled Construction Workers and the Like, Except Electricians',\n",
    "            172: 'Skilled Workers in Metallurgy, Metalworking and Similar',\n",
    "            173: 'Skilled Workers in Printing, Precision Instrument Manufacturing, Jewelers, Artisans and the Like',\n",
    "            174: 'Skilled Workers in Electricity and Electronics',\n",
    "            175: 'Workers in Food Processing, Woodworking, Clothing and Other Industries and Crafts',\n",
    "            181: 'Fixed Plant and Machine Operators',\n",
    "            182: 'Assembly Workers',\n",
    "            183: 'Vehicle Drivers and Mobile Equipment Operators',\n",
    "            191: 'Cleaning Workers',\n",
    "            192: 'Unskilled Workers in Agriculture, Animal Production, Fisheries and Forestry',\n",
    "            193: 'Unskilled Workers in Extractive Industry, Construction, Manufacturing and Transport',\n",
    "            194: 'Meal Preparation Assistants',\n",
    "            195: 'Street Vendors (Except Food) and Street Service Providers'\n",
    "        }\n",
    "    }\n",
    "\n",
    "    category_mappings['Previous_qualification'] = category_mappings['Qualification']\n",
    "    category_mappings['Mothers_qualification'] = category_mappings['Qualification']\n",
    "    category_mappings['Fathers_qualification'] = category_mappings['Qualification']\n",
    "    category_mappings['Mothers_occupation'] = category_mappings['Occupation']\n",
    "    category_mappings['Fathers_occupation'] = category_mappings['Occupation']\n",
    "\n",
    "    binary_features = ['Displaced', 'Educational_special_needs', 'Debtor',\n",
    "                       'Tuition_fees_up_to_date', 'Scholarship_holder',\n",
    "                       'International']\n",
    "    binary_mapping = {0: 'No', 1: 'Yes'}\n",
    "\n",
    "    features = [feature] if isinstance(feature, str) else feature\n",
    "\n",
    "    for f in features:\n",
    "        if f in category_mappings:\n",
    "            df[f] = df[f].map(category_mappings[f])\n",
    "        elif f in binary_features:\n",
    "            df[f] = df[f].map(binary_mapping)\n",
    "\n",
    "    return df"
   ]
  },
  {
   "cell_type": "code",
   "execution_count": null,
   "metadata": {
    "trusted": true
   },
   "outputs": [],
   "source": [
    "df_dashboard = df.copy()\n",
    "\n",
    "df_dashboard = label_decoding(df_dashboard, ['Marital_status', 'Application_mode', 'Course',\n",
    "                                 'Daytime_evening_attendance',\n",
    "                                 'Previous_qualification', 'Nacionality',\n",
    "                                 'Mothers_qualification', 'Fathers_qualification',\n",
    "                                 'Mothers_occupation', 'Fathers_occupation',\n",
    "                                 'Displaced', 'Educational_special_needs' ,\n",
    "                                 'Debtor', 'Tuition_fees_up_to_date', 'Gender',\n",
    "                                 'Scholarship_holder', 'International'])"
   ]
  },
  {
   "cell_type": "code",
   "execution_count": null,
   "metadata": {
    "trusted": true
   },
   "outputs": [],
   "source": [
    "# Dataset for Business Dashboard\n",
    "df_dashboard.to_csv('student_data_dashboard.csv', index=False)"
   ]
  },
  {
   "cell_type": "markdown",
   "metadata": {},
   "source": [
    "### Label Encoding\n",
    "\n",
    "Label feature Encoding untuk variabel target \"Status\""
   ]
  },
  {
   "cell_type": "code",
   "execution_count": null,
   "metadata": {
    "trusted": true
   },
   "outputs": [],
   "source": [
    "le = LabelEncoder()\n",
    "df['Status'] = le.fit_transform(df['Status'])\n",
    "\n",
    "dict(zip(le.classes_, le.transform(le.classes_)))"
   ]
  },
  {
   "cell_type": "markdown",
   "metadata": {},
   "source": [
    "Di sini, saya akan drop mahasiswa dengan status \"enrolled\". Ini akan membuat model bekerja lebih baik karena akan menjadi klasifikasi biner. Selain itu, hal ini dilakukan karena meneyesuaikan dengan kebutuhan analisis yang berfokus pada mahasiswa yang dropout."
   ]
  },
  {
   "cell_type": "code",
   "execution_count": null,
   "metadata": {
    "trusted": true
   },
   "outputs": [],
   "source": [
    "df = df[df['Status'] != 1]\n",
    "df = df.reset_index(drop=True)\n",
    "\n",
    "df.loc[:, 'Status'] = df['Status'].replace({2: 1})\n",
    "df"
   ]
  },
  {
   "cell_type": "code",
   "execution_count": null,
   "metadata": {
    "trusted": true
   },
   "outputs": [],
   "source": [
    "df['Status'].value_counts()"
   ]
  },
  {
   "cell_type": "markdown",
   "metadata": {},
   "source": [
    "Dalam pemodelan nantinya, fitur label yang digunakan adalah Status, apakah siswa tersebut graduated atau dropout."
   ]
  },
  {
   "cell_type": "markdown",
   "metadata": {},
   "source": [
    "### Feature Selection"
   ]
  },
  {
   "cell_type": "code",
   "execution_count": null,
   "metadata": {
    "trusted": true
   },
   "outputs": [],
   "source": [
    "plt.figure(figsize=(20, 14))\n",
    "correlation_matrix = df.corr(numeric_only=True).round(2)\n",
    "mask = np.triu(np.ones_like(correlation_matrix, dtype=bool))\n",
    "sns.heatmap(correlation_matrix, vmin=-1, vmax=1,annot=True, cmap='YlGnBu', mask=mask)\n",
    "plt.title('Heatmap Correlation Matrix of Student Data', size=20)\n",
    "plt.show()\n",
    "     "
   ]
  },
  {
   "cell_type": "markdown",
   "metadata": {},
   "source": [
    "**Pengaruh Fitur terhadap Status**\n",
    "\n",
    "* **Fitur dengan pengaruh cukup kuat terhadap Status:**\n",
    "\n",
    "  * `Curricular_units_2nd_sem_approved`\n",
    "  * `Curricular_units_2nd_sem_grade`\n",
    "\n",
    "* **Fitur dengan pengaruh sedang terhadap Status:**\n",
    "\n",
    "  * `Curricular_units_1nd_sem_approved`\n",
    "  * `Curricular_units_1nd_sem_grade`\n",
    "  * `Tuition_fees_up_to_date`\n",
    "  * `Scholarship_holder`\n",
    "\n",
    "* **Fitur dengan pengaruh rendah terhadap Status:**\n",
    "\n",
    "  * `Age_at_enrollment`\n",
    "  * `Debtor`\n",
    "  * `Gender`\n",
    "  * `Applicatoin_mode` *(kemungkinan typo dari `Application_mode`)*\n",
    "\n",
    "* **Fitur lainnya memiliki pengaruh yang sangat lemah terhadap Status.**\n",
    "\n",
    "\n",
    "Dalam feature selection, dilakukan drop semua fitur data yang memiliki nilai korelasi absolut kurang dari 0,1."
   ]
  },
  {
   "cell_type": "code",
   "execution_count": null,
   "metadata": {
    "trusted": true
   },
   "outputs": [],
   "source": [
    "df_filtered = df.loc[:, df.corr()['Status'].abs().ge(0.1)]\n",
    "df_filtered"
   ]
  },
  {
   "cell_type": "code",
   "execution_count": null,
   "metadata": {
    "trusted": true
   },
   "outputs": [],
   "source": [
    "df_filtered.to_csv('student_data_filtered.csv', index=False)"
   ]
  },
  {
   "cell_type": "markdown",
   "metadata": {},
   "source": [
    "### Spliiting dan Standarisasi"
   ]
  },
  {
   "cell_type": "code",
   "execution_count": null,
   "metadata": {
    "trusted": true
   },
   "outputs": [],
   "source": [
    "x=df_filtered.drop(columns='Status')\n",
    "y=df_filtered['Status']\n",
    "\n",
    "# Membagi data menjadi train dan test\n",
    "x_train, x_test, y_train, y_test = train_test_split(x, y, stratify=y, test_size=0.2, random_state=42)\n",
    "\n",
    "# Standarisasi menggunakan Min Max Scaler\n",
    "scaler = MinMaxScaler()\n",
    "x_train_scaled = scaler.fit_transform(x_train)\n",
    "x_test_scaled = scaler.transform(x_test)"
   ]
  },
  {
   "cell_type": "markdown",
   "metadata": {},
   "source": [
    "**Penjelasan:**\n",
    "\n",
    "Fitur-fitur (variabel independen) dipisahkan dari target ('Status') untuk membedakan input dan output model. Selanjutnya, data dibagi menjadi data latih (train) dan data uji (test) dengan proporsi 80:20 menggunakan stratified sampling agar distribusi kelas target tetap seimbang pada kedua subset. \n",
    "\n",
    "Selanjutnya, dilakukan standarisasi dengan MinMaxScaler untuk mengubah skala semua fitur ke rentang 0–1. Ini penting karena algoritma machine learning sangat sensitif terhadap skala fitur; jika tidak distandarisasi, fitur dengan nilai besar bisa mendominasi proses pembelajaran dan merusak performa model."
   ]
  },
  {
   "cell_type": "markdown",
   "metadata": {},
   "source": [
    "## Modeling"
   ]
  },
  {
   "cell_type": "markdown",
   "metadata": {},
   "source": [
    "### k-Nearest Neighbors Modelling dengan Hyperparameter Tuning menggunakan Optuna"
   ]
  },
  {
   "cell_type": "code",
   "execution_count": null,
   "metadata": {
    "trusted": true
   },
   "outputs": [],
   "source": [
    "def objective_knn(trial):\n",
    "    params = {\n",
    "        'n_neighbors': trial.suggest_int('n_neighbors', 3, 10),\n",
    "        'weights': trial.suggest_categorical('weights', ['uniform', 'distance']),\n",
    "        'p': trial.suggest_int('p', 1, 2)  # Parameter untuk metrik Minkowski (1=Manhattan, 2=Euclidean)\n",
    "    }\n",
    "    \n",
    "    model = KNeighborsClassifier(**params)\n",
    "    model.fit(x_train, y_train)\n",
    "    y_pred_test = model.predict(x_test)\n",
    "    score = balanced_accuracy_score(y_test, y_pred_test)\n",
    "    return score\n",
    "\n",
    "study_knn = optuna.create_study(direction='maximize', sampler=TPESampler(seed=13))\n",
    "study_knn.optimize(objective_knn, n_trials=10)\n",
    "\n",
    "# Menampilkan hasil terbaik\n",
    "print(\"Best KNN Parameters:\", study_knn.best_params)\n",
    "\n",
    "modelKNN = KNeighborsClassifier(**study_knn.best_params)"
   ]
  },
  {
   "cell_type": "markdown",
   "metadata": {},
   "source": [
    "### Random Forest Modelling dengan Hyperparameter Tuning menggunakan Optuna"
   ]
  },
  {
   "cell_type": "code",
   "execution_count": null,
   "metadata": {
    "trusted": true
   },
   "outputs": [],
   "source": [
    "def objective_rf(trial):\n",
    "    params = {\n",
    "        'n_estimators': trial.suggest_int('n_estimators', 50, 300),\n",
    "        'max_depth': trial.suggest_int('max_depth', 3, 20),\n",
    "        'min_samples_split': trial.suggest_int('min_samples_split', 2, 10),\n",
    "        'min_samples_leaf': trial.suggest_int('min_samples_leaf', 1, 10),\n",
    "        'max_features': trial.suggest_categorical('max_features', ['sqrt', 'log2', None]),\n",
    "        'bootstrap': trial.suggest_categorical('bootstrap', [True, False]),\n",
    "    }\n",
    "    \n",
    "    model = RandomForestClassifier(**params, random_state=13)\n",
    "    model.fit(x_train, y_train)\n",
    "    y_pred_test = model.predict(x_test)\n",
    "    score = balanced_accuracy_score(y_test, y_pred_test)\n",
    "    return score\n",
    "\n",
    "study_rf = optuna.create_study(direction='maximize', sampler=TPESampler(seed=13))\n",
    "study_rf.optimize(objective_rf, n_trials=10)\n",
    "\n",
    "print(\"Best RF Parameters:\", study_rf.best_params)\n",
    "modelRF = RandomForestClassifier(**study_rf.best_params, random_state=13)"
   ]
  },
  {
   "cell_type": "markdown",
   "metadata": {},
   "source": [
    "**Penjelasan:**\n",
    "\n",
    "Tahapan selanjutnya adalah pemodelan yang dilakukan menggunakan algoritma KNN dan Random Forest. Dalam menentukan hyperparameter yang dapat mengoptimalkan kedua algoritma, digunakan library optuna yang menerapkan Algoritma Tree Parzen Structure untuk melakukan pencarian hyperparameter atau dikenal dengan hyperparameter tuning untuk algoritma KNN dan CatBoost."
   ]
  },
  {
   "cell_type": "markdown",
   "metadata": {},
   "source": [
    "## Evaluation"
   ]
  },
  {
   "cell_type": "markdown",
   "metadata": {},
   "source": [
    "### Pendefinisian Fungsi Evaluasi dan Visualisasi Performa Model"
   ]
  },
  {
   "cell_type": "code",
   "execution_count": null,
   "metadata": {
    "trusted": true
   },
   "outputs": [],
   "source": [
    "def evaluasiModel(judul, model, X_train, y_train, X_test, y_test, save_dir=\"Model Tersimpan\"):\n",
    "    print(judul)\n",
    "    model.fit(X_train, y_train)\n",
    "    y_test_pred = model.predict(X_test)\n",
    "\n",
    "    # Evaluasi metrik\n",
    "    bal_acc = balanced_accuracy_score(y_test, y_test_pred)\n",
    "    f1_macro = f1_score(y_test, y_test_pred, average='macro')\n",
    "    acc = accuracy_score(y_test, y_test_pred)\n",
    "\n",
    "    # Cek apakah model mendukung predict_proba atau decision_function\n",
    "    if hasattr(model, \"predict_proba\"):\n",
    "        y_score = model.predict_proba(X_test)[:, 1]\n",
    "    elif hasattr(model, \"decision_function\"):\n",
    "        y_score = model.decision_function(X_test)\n",
    "    else:\n",
    "        y_score = None\n",
    "\n",
    "    print(\"Final Balanced Accuracy pada Data Uji :\", bal_acc)\n",
    "    print(\"F1 Score (Macro) : \", f1_macro)\n",
    "    print(\"Accuracy : \", acc)\n",
    "\n",
    "    # Classification report\n",
    "    print(\"\\nClassification Report:\")\n",
    "    print(classification_report(y_test, y_test_pred))\n",
    "\n",
    "    # Confusion matrix\n",
    "    cm = confusion_matrix(y_test, y_test_pred)\n",
    "    plt.figure(figsize=(6, 5))\n",
    "    sns.heatmap(cm, annot=True, fmt='d', cmap='Blues', cbar=False, \n",
    "                xticklabels=['Pred 0', 'Pred 1'], \n",
    "                yticklabels=['True 0', 'True 1'])\n",
    "    plt.xlabel('Predicted')\n",
    "    plt.ylabel('Actual')\n",
    "    plt.title('Confusion Matrix')\n",
    "    plt.tight_layout()\n",
    "    plt.show()\n",
    "\n",
    "    # Simpan model\n",
    "    os.makedirs(save_dir, exist_ok=True)\n",
    "    model_path = os.path.join(save_dir, f\"{judul.replace(' ', '_')}.pkl\")\n",
    "    # Simpan model dengan benar\n",
    "    with open(model_path, 'wb') as file:\n",
    "        pickle.dump(model, file)\n",
    "    print(f\"Model disimpan di: {model_path}\")\n",
    "\n",
    "    return {\n",
    "        \"Skenario\": judul,\n",
    "        \"Balanced Accuracy\": bal_acc,\n",
    "        \"F1 Score (Macro)\": f1_macro,\n",
    "        \"Accuracy\": acc,\n",
    "        \"Model Path\": model_path\n",
    "    }"
   ]
  },
  {
   "cell_type": "markdown",
   "metadata": {},
   "source": [
    "**Penjelasan:**\n",
    "\n",
    "Fungsi ini bertujuan untuk melakukan evaluasi terhadap model machine learning yang dibangun. Terdapat 6 inputan judul, model, X_train, y_train, X_test, dan y_test. Kode ini bertujuan untuk menghasilkan ukuran evaluasi berupa Balanced Accuracy, Classification Report, dan Confusion Matrix."
   ]
  },
  {
   "cell_type": "markdown",
   "metadata": {},
   "source": [
    "### Evaluasi Model Klasifikasi"
   ]
  },
  {
   "cell_type": "code",
   "execution_count": null,
   "metadata": {
    "trusted": true
   },
   "outputs": [],
   "source": [
    "hasil1 = evaluasiModel(\"Model KNN\", modelKNN, x_train, y_train, x_test, y_test)\n",
    "hasil2 = evaluasiModel(\"Model Random Forest\",modelRF, x_train, y_train, x_test, y_test)"
   ]
  },
  {
   "cell_type": "code",
   "execution_count": null,
   "metadata": {
    "trusted": true
   },
   "outputs": [],
   "source": [
    "df_hasil = pd.DataFrame([hasil1, hasil2])\n",
    "df_hasil"
   ]
  },
  {
   "cell_type": "markdown",
   "metadata": {},
   "source": [
    "**Penjelasan:**\n",
    "\n",
    "Berdasarkan pelatihan yang dilakukan terlihat bahwa model yang dibangun sudah cukup baik, di mana nilai akurasi berada di nilai > 80%. Pada hasil pencarian optuna untuk kedua algoritma diperoleh hyperparameter terbaik adalah sebagai berikut.\n",
    "\n",
    "Model KNN = {'n_neighbors': 8, 'weights': 'uniform', 'p': 1}\n",
    "\n",
    "Model Random Forest = {'n_estimators': 52, 'max_depth': 9, 'min_samples_split': 10, 'min_samples_leaf': 3, 'max_features': 'log2', 'bootstrap': False}\n",
    "\n",
    "Namun, pada nilai F-1 Score Macro dan Balanced Accuracy yang cenderung lebih tepat digunakan untuk mengukur performa model klasifikasi pada kondisi imbalanced dataset, terlihat bahwa nilai Balanced Accuracy dan F-1 Score Macro pada model Random Forest lebih tinggi dibanding KNN. Hal ini menunjukkan model Random Forest lebih baik dalam memprediksi pada keseluruhan class."
   ]
  },
  {
   "cell_type": "code",
   "execution_count": null,
   "metadata": {
    "trusted": true
   },
   "outputs": [],
   "source": [
    "# SHAP untuk Random Forest\n",
    "explainer = shap.TreeExplainer(modelRF)\n",
    "shap_values = explainer.shap_values(x_test)\n",
    "\n",
    "# Summary plot\n",
    "shap.summary_plot(shap_values[0], x_test, plot_type=\"dot\")"
   ]
  },
  {
   "cell_type": "markdown",
   "metadata": {},
   "source": [
    "Visualisasi SHAP summary plot di atas menggambarkan seberapa besar pengaruh masing-masing fitur terhadap probabilitas seorang mahasiswa **dropout (kelas 0)** pada model Random Forest. `shap_values[0]` berarti ini untuk **kelas 0** → yaitu **mahasiswa yang dropout**. \n",
    "\n",
    "* Maka:\n",
    "\n",
    "  * **SHAP value positif → mendorong ke dropout**\n",
    "  * **SHAP value negatif → mendorong ke tidak dropout (bertahan)**\n",
    "\n",
    "### 🔝 Fitur Paling Berpengaruh terhadap Prediksi **Dropout**\n",
    "\n",
    "1. **Curricular\\_units\\_2nd\\_sem\\_approved**\n",
    "\n",
    "   * Mahasiswa yang **meluluskan banyak mata kuliah semester 2** (warna merah) → SHAP value **negatif** → **cenderung tidak dropout**.\n",
    "   * Yang lulus sedikit (biru) → SHAP value **positif** → **cenderung dropout**.\n",
    "\n",
    "2. **Curricular\\_units\\_1st\\_sem\\_approved**\n",
    "\n",
    "   * Banyak mata kuliah yang disetujui di semester 1 → **menurunkan kemungkinan dropout**.\n",
    "   * Sedikit yang disetujui → **meningkatkan kemungkinan dropout**.\n",
    "\n",
    "3. **Curricular\\_units\\_2nd\\_sem\\_grade**\n",
    "\n",
    "   * Nilai tinggi di semester 2 (merah) → **mendorong bertahan**.\n",
    "   * Nilai rendah (biru) → **mendorong dropout**.\n",
    "\n",
    "4. **Tuition\\_fees\\_up\\_to\\_date**\n",
    "\n",
    "   * Mahasiswa dengan **pembayaran lancar** (merah) → **tidak dropout**.\n",
    "   * Yang **menunggak** (biru) → **lebih berisiko dropout**.\n",
    "\n",
    "5. **Curricular\\_units\\_1st\\_sem\\_grade**\n",
    "\n",
    "   * Nilai tinggi semester 1 → **menurunkan risiko dropout**.\n",
    "   * Nilai rendah → meningkatkan risiko.\n",
    "\n",
    "\n",
    "#### 🧠 Fitur Sosial-Ekonomi & Demografi\n",
    "\n",
    "6. **Age\\_at\\_enrollment**\n",
    "\n",
    "   * Mahasiswa yang masuk pada usia **lebih tua** (merah) → sedikit lebih **rentan dropout**.\n",
    "   * Usia muda (biru) → cenderung bertahan.\n",
    "\n",
    "7. **Scholarship\\_holder**\n",
    "\n",
    "   * Penerima beasiswa (merah) → SHAP negatif → **lebih aman dari dropout**.\n",
    "   * Tanpa beasiswa (biru) → lebih berisiko dropout.\n",
    "\n",
    "8. **Debtor**\n",
    "\n",
    "   * Mahasiswa dengan utang (merah) → **lebih cenderung dropout**.\n",
    "   * Tanpa utang (biru) → lebih aman.\n",
    "\n",
    "9. **Curricular\\_units\\_2nd\\_sem\\_evaluations**\n",
    "\n",
    "   * Mahasiswa yang **tidak banyak mengikuti evaluasi** semester 2 → lebih berisiko dropout.\n",
    "   * Lebih banyak evaluasi → cenderung bertahan.\n",
    "\n",
    "10. **Curricular\\_units\\_2nd\\_sem\\_enrolled**\n",
    "\n",
    "    * Mahasiswa yang mendaftar lebih sedikit mata kuliah semester 2 (biru) → **lebih berisiko dropout**.\n",
    "\n",
    "#### 🧾 Ringkasan Narasi\n",
    "\n",
    "> Model menunjukkan bahwa risiko mahasiswa dropout sangat berkaitan dengan **kinerja akademik awal**, **dukungan finansial**, dan **status sosial ekonomi**:\n",
    ">\n",
    "> * Mahasiswa dengan **nilai rendah**, **jumlah mata kuliah yang gagal banyak**, serta **tunggakan biaya kuliah** memiliki risiko dropout tinggi.\n",
    "> * Dukungan seperti **beasiswa**, **nilai awal yang tinggi**, dan **keaktifan dalam evaluasi semester** terbukti menurunkan kemungkinan dropout.\n",
    "> * Faktor usia dan gender juga berkontribusi kecil, di mana mahasiswa **lebih tua** dan **laki-laki** sedikit lebih rentan dropout.\n"
   ]
  }
 ],
 "metadata": {
  "kaggle": {
   "accelerator": "none",
   "dataSources": [],
   "dockerImageVersionId": 31040,
   "isGpuEnabled": false,
   "isInternetEnabled": true,
   "language": "python",
   "sourceType": "notebook"
  },
  "kernelspec": {
   "display_name": "base",
   "language": "python",
   "name": "python3"
  },
  "language_info": {
   "codemirror_mode": {
    "name": "ipython",
    "version": 3
   },
   "file_extension": ".py",
   "mimetype": "text/x-python",
   "name": "python",
   "nbconvert_exporter": "python",
   "pygments_lexer": "ipython3",
   "version": "3.11.4"
  }
 },
 "nbformat": 4,
 "nbformat_minor": 4
}
